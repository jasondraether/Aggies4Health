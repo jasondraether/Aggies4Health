{
 "cells": [
  {
   "cell_type": "code",
   "execution_count": 1,
   "id": "7d4e54e5-4ea4-44b4-87f6-08a5c56f30da",
   "metadata": {},
   "outputs": [],
   "source": [
    "import pandas as pd\n",
    "import interface as itf"
   ]
  },
  {
   "cell_type": "code",
   "execution_count": 6,
   "id": "473105c1-f82f-4246-9db0-6d1af0cdc6c1",
   "metadata": {},
   "outputs": [
    {
     "name": "stdout",
     "output_type": "stream",
     "text": [
      "1\n",
      "2\n",
      "3\n",
      "4\n",
      "5\n",
      "6\n",
      "7\n",
      "8\n",
      "9\n",
      "10\n",
      "11\n",
      "12\n",
      "13\n",
      "14\n",
      "16\n"
     ]
    }
   ],
   "source": [
    "all_dfs = []\n",
    "for pid in range(1, 17, 1):\n",
    "    if pid == 15: continue\n",
    "    well_df = itf.get_wellness(pid)\n",
    "    well_df = well_df.drop(\n",
    "        columns=['soreness_area']\n",
    "    ).rename(\n",
    "        columns={'effective_time_frame':'dateTime'}\n",
    "    ).assign(\n",
    "        pid=pid\n",
    "    ).rename(\n",
    "        columns={c: 'survey_'+c for c in well_df.columns if c not in ['dateTime', 'pid']}\n",
    "    )\n",
    "    well_df['dateTime'] = pd.to_datetime(pd.to_datetime(well_df['dateTime']).dt.date)\n",
    "                 \n",
    "    rep_df = itf.get_reporting(pid)\n",
    "    rep_df['dateTime'] = pd.to_datetime(pd.to_datetime(rep_df['date']))\n",
    "    rep_df = rep_df.drop(\n",
    "        columns=['date', 'timestamp']\n",
    "    ).assign(\n",
    "        pid=pid\n",
    "    )\n",
    "    \n",
    "    final_df = well_df.merge(rep_df, how='outer', on=['dateTime', 'pid'])\n",
    "    all_dfs.append(final_df)\n",
    "    print(pid)"
   ]
  },
  {
   "cell_type": "code",
   "execution_count": 7,
   "id": "eed91cfc-46dc-41b9-a66f-4d3f7e70994c",
   "metadata": {},
   "outputs": [],
   "source": [
    "df_out = pd.concat(all_dfs, axis=0, ignore_index=True)"
   ]
  },
  {
   "cell_type": "code",
   "execution_count": 8,
   "id": "3cd5f0e9-5eec-4a6c-b233-8726ba3f3d30",
   "metadata": {},
   "outputs": [],
   "source": [
    "df_out.to_csv('../dataset/clean/day_data_v4.csv', index=False)"
   ]
  }
 ],
 "metadata": {
  "kernelspec": {
   "display_name": "Python 3 (ipykernel)",
   "language": "python",
   "name": "python3"
  },
  "language_info": {
   "codemirror_mode": {
    "name": "ipython",
    "version": 3
   },
   "file_extension": ".py",
   "mimetype": "text/x-python",
   "name": "python",
   "nbconvert_exporter": "python",
   "pygments_lexer": "ipython3",
   "version": "3.8.12"
  }
 },
 "nbformat": 4,
 "nbformat_minor": 5
}
