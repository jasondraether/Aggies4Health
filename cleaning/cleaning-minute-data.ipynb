{
 "cells": [
  {
   "cell_type": "code",
   "execution_count": 2,
   "id": "a2b9ff39-b6e2-461e-bcd6-7c26c951a3df",
   "metadata": {},
   "outputs": [],
   "source": [
    "import pandas as pd\n",
    "import numpy as np"
   ]
  },
  {
   "cell_type": "code",
   "execution_count": 3,
   "id": "45a8ba9d-ac76-4343-8687-2ade0644e9fa",
   "metadata": {},
   "outputs": [],
   "source": [
    "df = pd.read_csv('../dataset/clean/minute_data.csv', header=0)"
   ]
  },
  {
   "cell_type": "code",
   "execution_count": 5,
   "id": "995449d5-b2f4-481b-b8bf-2782635d932b",
   "metadata": {},
   "outputs": [
    {
     "data": {
      "text/html": [
       "<div>\n",
       "<style scoped>\n",
       "    .dataframe tbody tr th:only-of-type {\n",
       "        vertical-align: middle;\n",
       "    }\n",
       "\n",
       "    .dataframe tbody tr th {\n",
       "        vertical-align: top;\n",
       "    }\n",
       "\n",
       "    .dataframe thead th {\n",
       "        text-align: right;\n",
       "    }\n",
       "</style>\n",
       "<table border=\"1\" class=\"dataframe\">\n",
       "  <thead>\n",
       "    <tr style=\"text-align: right;\">\n",
       "      <th></th>\n",
       "      <th>dateTime</th>\n",
       "      <th>calories</th>\n",
       "      <th>distance</th>\n",
       "      <th>steps</th>\n",
       "      <th>max</th>\n",
       "      <th>min</th>\n",
       "      <th>mean</th>\n",
       "      <th>median</th>\n",
       "      <th>std</th>\n",
       "      <th>pid</th>\n",
       "    </tr>\n",
       "  </thead>\n",
       "  <tbody>\n",
       "    <tr>\n",
       "      <th>0</th>\n",
       "      <td>2019-11-01 00:00:00</td>\n",
       "      <td>1.39</td>\n",
       "      <td>0</td>\n",
       "      <td>0</td>\n",
       "      <td>56</td>\n",
       "      <td>51</td>\n",
       "      <td>52.777778</td>\n",
       "      <td>52.0</td>\n",
       "      <td>1.641476</td>\n",
       "      <td>1</td>\n",
       "    </tr>\n",
       "    <tr>\n",
       "      <th>1</th>\n",
       "      <td>2019-11-01 00:01:00</td>\n",
       "      <td>1.39</td>\n",
       "      <td>0</td>\n",
       "      <td>0</td>\n",
       "      <td>58</td>\n",
       "      <td>52</td>\n",
       "      <td>54.000000</td>\n",
       "      <td>53.0</td>\n",
       "      <td>2.267787</td>\n",
       "      <td>1</td>\n",
       "    </tr>\n",
       "    <tr>\n",
       "      <th>2</th>\n",
       "      <td>2019-11-01 00:02:00</td>\n",
       "      <td>1.39</td>\n",
       "      <td>0</td>\n",
       "      <td>0</td>\n",
       "      <td>54</td>\n",
       "      <td>50</td>\n",
       "      <td>52.500000</td>\n",
       "      <td>53.0</td>\n",
       "      <td>1.414214</td>\n",
       "      <td>1</td>\n",
       "    </tr>\n",
       "    <tr>\n",
       "      <th>3</th>\n",
       "      <td>2019-11-01 00:03:00</td>\n",
       "      <td>1.39</td>\n",
       "      <td>0</td>\n",
       "      <td>0</td>\n",
       "      <td>57</td>\n",
       "      <td>52</td>\n",
       "      <td>53.636364</td>\n",
       "      <td>53.0</td>\n",
       "      <td>1.629278</td>\n",
       "      <td>1</td>\n",
       "    </tr>\n",
       "    <tr>\n",
       "      <th>4</th>\n",
       "      <td>2019-11-01 00:04:00</td>\n",
       "      <td>1.39</td>\n",
       "      <td>0</td>\n",
       "      <td>0</td>\n",
       "      <td>58</td>\n",
       "      <td>51</td>\n",
       "      <td>53.555556</td>\n",
       "      <td>53.0</td>\n",
       "      <td>2.185813</td>\n",
       "      <td>1</td>\n",
       "    </tr>\n",
       "  </tbody>\n",
       "</table>\n",
       "</div>"
      ],
      "text/plain": [
       "              dateTime  calories  distance  steps  max  min       mean  \\\n",
       "0  2019-11-01 00:00:00      1.39         0      0   56   51  52.777778   \n",
       "1  2019-11-01 00:01:00      1.39         0      0   58   52  54.000000   \n",
       "2  2019-11-01 00:02:00      1.39         0      0   54   50  52.500000   \n",
       "3  2019-11-01 00:03:00      1.39         0      0   57   52  53.636364   \n",
       "4  2019-11-01 00:04:00      1.39         0      0   58   51  53.555556   \n",
       "\n",
       "   median       std  pid  \n",
       "0    52.0  1.641476    1  \n",
       "1    53.0  2.267787    1  \n",
       "2    53.0  1.414214    1  \n",
       "3    53.0  1.629278    1  \n",
       "4    53.0  2.185813    1  "
      ]
     },
     "execution_count": 5,
     "metadata": {},
     "output_type": "execute_result"
    }
   ],
   "source": [
    "df.head()"
   ]
  },
  {
   "cell_type": "code",
   "execution_count": 6,
   "id": "4cbef319-4ec3-4f76-80ee-a04d378ecce8",
   "metadata": {},
   "outputs": [],
   "source": [
    "df_renamed = df.rename(\n",
    "       {\n",
    "           'max':'hr_max',\n",
    "           'min':'hr_min',\n",
    "           'mean':'hr_mean',\n",
    "           'median':'hr_median',\n",
    "           'std':'hr_std'\n",
    "       }\n",
    ")"
   ]
  },
  {
   "cell_type": "code",
   "execution_count": 7,
   "id": "cc793ebf-99d8-4924-9723-9269ce299dd3",
   "metadata": {},
   "outputs": [],
   "source": [
    "df_renamed.to_csv('../dataset/clean/minute_data_v2.csv', index=False, header=True)"
   ]
  }
 ],
 "metadata": {
  "kernelspec": {
   "display_name": "Python 3 (ipykernel)",
   "language": "python",
   "name": "python3"
  },
  "language_info": {
   "codemirror_mode": {
    "name": "ipython",
    "version": 3
   },
   "file_extension": ".py",
   "mimetype": "text/x-python",
   "name": "python",
   "nbconvert_exporter": "python",
   "pygments_lexer": "ipython3",
   "version": "3.8.12"
  }
 },
 "nbformat": 4,
 "nbformat_minor": 5
}
