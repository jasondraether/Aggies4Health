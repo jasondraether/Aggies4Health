{
 "cells": [
  {
   "cell_type": "code",
   "execution_count": 1,
   "id": "2860289c-8721-453a-a7c2-a76cd809056b",
   "metadata": {},
   "outputs": [],
   "source": [
    "import pandas as pd\n",
    "import numpy as np\n"
   ]
  },
  {
   "cell_type": "code",
   "execution_count": 2,
   "id": "93b6768c-5e23-4357-9c76-104d8b7c79d5",
   "metadata": {},
   "outputs": [],
   "source": [
    "df = pd.read_csv('../dataset/clean/day_data.csv', header=0)"
   ]
  },
  {
   "cell_type": "code",
   "execution_count": 3,
   "id": "46f2acf5-a6ce-4ebc-aae4-52490667dbc4",
   "metadata": {},
   "outputs": [],
   "source": [
    "df_dropped = df.drop(\n",
    "    columns=[\n",
    "        'logId',\n",
    "        'dateOfSleep',\n",
    "        'timestamp',\n",
    "        'sleep_log_entry_id',\n",
    "        'hr_sum',\n",
    "        'cal_max',\n",
    "        'cal_min',\n",
    "        'cal_mean',\n",
    "        'cal_median',\n",
    "        'cal_std',\n",
    "        'dist_max',\n",
    "        'dist_min',\n",
    "        'dist_mean',\n",
    "        'dist_median',\n",
    "        'dist_std',\n",
    "        'steps_max',\n",
    "        'steps_min',\n",
    "        'steps_mean',\n",
    "        'steps_median',\n",
    "        'steps_std',\n",
    "        'resting_heart_rate'\n",
    "    ]\n",
    ")"
   ]
  },
  {
   "cell_type": "code",
   "execution_count": 12,
   "id": "73041b7d-6199-4b98-8b4e-9145bc279659",
   "metadata": {},
   "outputs": [],
   "source": [
    "df_renamed = df_dropped.rename(\n",
    "    columns={\n",
    "        'duration':'totalSleepDuration',\n",
    "        'startTime':'sleepStartTime',\n",
    "        'endTime':'sleepEndTime'\n",
    "    }\n",
    ")"
   ]
  },
  {
   "cell_type": "code",
   "execution_count": 13,
   "id": "e75912e0-cd38-4118-b604-8126fe8036b3",
   "metadata": {},
   "outputs": [
    {
     "name": "stdout",
     "output_type": "stream",
     "text": [
      "Index(['dateTime', 'laminutes', 'maminutes', 'vaminutes', 'sedminutes',\n",
      "       'resthr', 'sleepStartTime', 'sleepEndTime', 'totalSleepDuration',\n",
      "       'minutesToFallAsleep', 'minutesAsleep', 'minutesAwake',\n",
      "       'minutesAfterWakeup', 'timeInBed', 'overall_score', 'composition_score',\n",
      "       'revitalization_score', 'duration_score', 'deep_sleep_in_minutes',\n",
      "       'restlessness', 'hr_max', 'hr_min', 'hr_mean', 'hr_median', 'hr_std',\n",
      "       'cal_sum', 'dist_sum', 'steps_sum', 'pid'],\n",
      "      dtype='object')\n"
     ]
    }
   ],
   "source": [
    "df_new = df_renamed\n",
    "print(df_new.columns)"
   ]
  },
  {
   "cell_type": "code",
   "execution_count": 14,
   "id": "04b1e888-8dd3-435e-83c4-5fecf823714d",
   "metadata": {},
   "outputs": [
    {
     "name": "stdout",
     "output_type": "stream",
     "text": [
      "0       2019-11-02\n",
      "1       2019-11-03\n",
      "2       2019-11-04\n",
      "3       2019-11-05\n",
      "4       2019-11-06\n",
      "           ...    \n",
      "1666    2020-03-26\n",
      "1667    2020-03-27\n",
      "1668    2020-03-28\n",
      "1669    2020-03-29\n",
      "1670    2020-03-30\n",
      "Name: dateTime, Length: 1671, dtype: object\n"
     ]
    }
   ],
   "source": [
    "print(df_new['dateTime'])"
   ]
  },
  {
   "cell_type": "code",
   "execution_count": 15,
   "id": "cb042b7c-f0c8-4977-811b-b8034891916d",
   "metadata": {},
   "outputs": [],
   "source": [
    "df_new['day_of_week'] = pd.to_datetime(df_new['dateTime']).dt.day_name()"
   ]
  },
  {
   "cell_type": "code",
   "execution_count": 17,
   "id": "4c66018f-2f88-4e8f-aaee-d308c0decfb4",
   "metadata": {},
   "outputs": [],
   "source": [
    "df_new['totalSleepDuration'] /= (1000*60)"
   ]
  },
  {
   "cell_type": "code",
   "execution_count": 18,
   "id": "2c32b3b3-6121-4c3d-bddc-07b4c3013e92",
   "metadata": {},
   "outputs": [],
   "source": [
    "df_new.to_csv('../dataset/clean/day_data_v2.csv', index=False, header=True)"
   ]
  }
 ],
 "metadata": {
  "kernelspec": {
   "display_name": "Python 3 (ipykernel)",
   "language": "python",
   "name": "python3"
  },
  "language_info": {
   "codemirror_mode": {
    "name": "ipython",
    "version": 3
   },
   "file_extension": ".py",
   "mimetype": "text/x-python",
   "name": "python",
   "nbconvert_exporter": "python",
   "pygments_lexer": "ipython3",
   "version": "3.8.12"
  }
 },
 "nbformat": 4,
 "nbformat_minor": 5
}
