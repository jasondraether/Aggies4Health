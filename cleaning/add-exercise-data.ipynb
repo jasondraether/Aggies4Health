{
 "cells": [
  {
   "cell_type": "code",
   "execution_count": 1,
   "id": "2860289c-8721-453a-a7c2-a76cd809056b",
   "metadata": {
    "collapsed": true,
    "jupyter": {
     "outputs_hidden": true
    },
    "tags": []
   },
   "outputs": [],
   "source": [
    "import pandas as pd\n",
    "import numpy as np\n",
    "import interface as itf"
   ]
  },
  {
   "cell_type": "code",
   "execution_count": 2,
   "id": "93b6768c-5e23-4357-9c76-104d8b7c79d5",
   "metadata": {
    "collapsed": true,
    "jupyter": {
     "outputs_hidden": true
    }
   },
   "outputs": [],
   "source": [
    "df = pd.read_csv('../dataset/clean/day_data_fixed.csv', header=0)"
   ]
  },
  {
   "cell_type": "code",
   "execution_count": 4,
   "id": "c7f22440-3ace-4bda-998c-353fdaf20d4b",
   "metadata": {
    "collapsed": true,
    "jupyter": {
     "outputs_hidden": true
    }
   },
   "outputs": [],
   "source": [
    "ex_df = itf.get_exercise(1)"
   ]
  },
  {
   "cell_type": "code",
   "execution_count": 5,
   "id": "11b9d2c3-982f-468b-8520-8693bdb58a80",
   "metadata": {
    "collapsed": true,
    "jupyter": {
     "outputs_hidden": true
    }
   },
   "outputs": [
    {
     "name": "stdout",
     "output_type": "stream",
     "text": [
      "Index(['logId', 'activityName', 'activityTypeId', 'activityLevel',\n",
      "       'averageHeartRate', 'calories', 'activeDuration', 'steps', 'startTime',\n",
      "       'elevationGain'],\n",
      "      dtype='object')\n"
     ]
    }
   ],
   "source": [
    "print(ex_df.columns)"
   ]
  },
  {
   "cell_type": "code",
   "execution_count": 6,
   "id": "c6af4268-2de8-4b23-a53d-25b9db32ba92",
   "metadata": {
    "collapsed": true,
    "jupyter": {
     "outputs_hidden": true
    }
   },
   "outputs": [],
   "source": [
    "ex_df['exerciseDate'] = pd.to_datetime(pd.to_datetime(ex_df['startTime']).dt.date)"
   ]
  },
  {
   "cell_type": "code",
   "execution_count": 7,
   "id": "c9d1733a-4d28-42b8-b10b-d002a475031b",
   "metadata": {
    "collapsed": true,
    "jupyter": {
     "outputs_hidden": true
    }
   },
   "outputs": [
    {
     "data": {
      "text/plain": [
       "Index(['logId', 'activityName', 'activityTypeId', 'activityLevel',\n",
       "       'averageHeartRate', 'calories', 'activeDuration', 'steps', 'startTime',\n",
       "       'elevationGain', 'exerciseDate'],\n",
       "      dtype='object')"
      ]
     },
     "execution_count": 7,
     "metadata": {},
     "output_type": "execute_result"
    }
   ],
   "source": [
    "ex_df.columns"
   ]
  },
  {
   "cell_type": "code",
   "execution_count": 10,
   "id": "63d92dad-aa63-476a-8686-8e5a50b55efb",
   "metadata": {
    "collapsed": true,
    "jupyter": {
     "outputs_hidden": true
    }
   },
   "outputs": [],
   "source": [
    "ex_df = ex_df.drop(columns=['logId', 'activityTypeId', 'activityLevel', 'startTime'])"
   ]
  },
  {
   "cell_type": "code",
   "execution_count": 25,
   "id": "92ebe78e-d3d5-4d32-80c8-9a3c496c44b3",
   "metadata": {
    "collapsed": true,
    "jupyter": {
     "outputs_hidden": true
    }
   },
   "outputs": [],
   "source": [
    "agg_df = ex_df.groupby('exerciseDate').agg(\n",
    "    {\n",
    "        'activityName': set,\n",
    "        'averageHeartRate': 'mean',\n",
    "        'calories': 'sum',\n",
    "        'activeDuration': 'sum',\n",
    "        'steps': 'sum',\n",
    "        'elevationGain': 'sum'\n",
    "    }\n",
    ").reset_index()\n",
    "agg_df['activeDuration'] /= (1000*60)"
   ]
  },
  {
   "cell_type": "code",
   "execution_count": 26,
   "id": "d4fdf929-b82a-47c6-b30e-97d51f19f4c1",
   "metadata": {
    "collapsed": true,
    "jupyter": {
     "outputs_hidden": true
    }
   },
   "outputs": [],
   "source": [
    "out_df = agg_df.rename(columns={'steps': 'active_steps', 'averageHeartRate':'active_average_hr', 'calories': 'active_calories', 'exerciseDate':'dateTime'})"
   ]
  },
  {
   "cell_type": "code",
   "execution_count": 27,
   "id": "0c828770-4e26-42a5-8f64-5b25c49d4fec",
   "metadata": {
    "collapsed": true,
    "jupyter": {
     "outputs_hidden": true
    }
   },
   "outputs": [
    {
     "data": {
      "text/plain": [
       "Index(['dateTime', 'activityName', 'active_average_hr', 'active_calories',\n",
       "       'activeDuration', 'active_steps', 'elevationGain'],\n",
       "      dtype='object')"
      ]
     },
     "execution_count": 27,
     "metadata": {},
     "output_type": "execute_result"
    }
   ],
   "source": [
    "out_df.columns"
   ]
  },
  {
   "cell_type": "code",
   "execution_count": 40,
   "id": "9a0a08b2-c15c-45f8-bbde-423c460798b5",
   "metadata": {
    "collapsed": true,
    "jupyter": {
     "outputs_hidden": true
    }
   },
   "outputs": [],
   "source": [
    "old_df = pd.read_csv('../dataset/clean/day_data_v2.csv', header=0)"
   ]
  },
  {
   "cell_type": "code",
   "execution_count": 41,
   "id": "704e69b9-f1c0-4c48-b965-2fdc621db2a9",
   "metadata": {
    "collapsed": true,
    "jupyter": {
     "outputs_hidden": true
    }
   },
   "outputs": [],
   "source": [
    "old_df['dateTime'] = pd.to_datetime(old_df['dateTime'])\n",
    "final_df = old_df.merge(out_df, on='dateTime', how='left')"
   ]
  },
  {
   "cell_type": "code",
   "execution_count": 43,
   "id": "a5bc0481-c630-4170-a5e9-ffe8d11dd140",
   "metadata": {
    "tags": []
   },
   "outputs": [
    {
     "name": "stdout",
     "output_type": "stream",
     "text": [
      "       dateTime  laminutes  maminutes  vaminutes  sedminutes     resthr  \\\n",
      "1    2019-11-03      262.0         63         45         648  53.222024   \n",
      "4    2019-11-06      206.0         10         11         849  54.203189   \n",
      "5    2019-11-07      182.0         11         15         866  53.090003   \n",
      "6    2019-11-07      182.0         11         15         866  53.090003   \n",
      "12   2019-11-13      197.0         24         33         825  51.889327   \n",
      "...         ...        ...        ...        ...         ...        ...   \n",
      "1660 2020-03-20       62.0          9          5         774  68.000998   \n",
      "1662 2020-03-22       60.0          0          0         825  66.569772   \n",
      "1663 2020-03-23       85.0          8          1         890  68.090240   \n",
      "1664 2020-03-24       84.0          0          0         809  67.953362   \n",
      "1670 2020-03-30       69.0          9          4         814  65.947171   \n",
      "\n",
      "           sleepStartTime             sleepEndTime  totalSleepDuration  \\\n",
      "1     2019-11-03 00:32:00  2019-11-03T07:34:30.000               422.0   \n",
      "4     2019-11-06 00:25:30  2019-11-06T06:29:30.000               364.0   \n",
      "5     2019-11-06 23:45:30  2019-11-07T05:52:00.000               366.0   \n",
      "6     2019-11-06 23:45:30  2019-11-07T05:52:00.000               366.0   \n",
      "12    2019-11-13 00:28:00  2019-11-13T06:29:00.000               361.0   \n",
      "...                   ...                      ...                 ...   \n",
      "1660  2020-03-20 01:00:00  2020-03-20T10:50:00.000               590.0   \n",
      "1662  2020-03-22 02:01:00  2020-03-22T11:16:30.000               555.0   \n",
      "1663  2020-03-23 02:35:00  2020-03-23T10:11:00.000               456.0   \n",
      "1664  2020-03-24 02:29:00  2020-03-24T11:36:30.000               547.0   \n",
      "1670  2020-03-30 04:58:00  2020-03-30T14:02:00.000               544.0   \n",
      "\n",
      "      minutesToFallAsleep  ...  dist_sum  steps_sum  pid  day_of_week  \\\n",
      "1                       0  ...   1146085      14312    1       Sunday   \n",
      "4                       0  ...    652160       8189    1    Wednesday   \n",
      "5                       0  ...    704820       8710    1     Thursday   \n",
      "6                       0  ...    704820       8710    1     Thursday   \n",
      "12                      0  ...    902057      11185    1    Wednesday   \n",
      "...                   ...  ...       ...        ...  ...          ...   \n",
      "1660                    0  ...    134250       1783   16       Friday   \n",
      "1662                    0  ...     54110        720   16       Sunday   \n",
      "1663                    0  ...    154260       2049   16       Monday   \n",
      "1664                    0  ...     88590       1179   16      Tuesday   \n",
      "1670                    0  ...    131240       1773   16       Monday   \n",
      "\n",
      "      activityName  active_average_hr  active_calories  activeDuration  \\\n",
      "1              NaN                NaN              NaN             NaN   \n",
      "4              NaN                NaN              NaN             NaN   \n",
      "5              NaN                NaN              NaN             NaN   \n",
      "6              NaN                NaN              NaN             NaN   \n",
      "12             NaN                NaN              NaN             NaN   \n",
      "...            ...                ...              ...             ...   \n",
      "1660           NaN                NaN              NaN             NaN   \n",
      "1662           NaN                NaN              NaN             NaN   \n",
      "1663           NaN                NaN              NaN             NaN   \n",
      "1664           NaN                NaN              NaN             NaN   \n",
      "1670           NaN                NaN              NaN             NaN   \n",
      "\n",
      "      active_steps  elevationGain  \n",
      "1              NaN            NaN  \n",
      "4              NaN            NaN  \n",
      "5              NaN            NaN  \n",
      "6              NaN            NaN  \n",
      "12             NaN            NaN  \n",
      "...            ...            ...  \n",
      "1660           NaN            NaN  \n",
      "1662           NaN            NaN  \n",
      "1663           NaN            NaN  \n",
      "1664           NaN            NaN  \n",
      "1670           NaN            NaN  \n",
      "\n",
      "[414 rows x 36 columns]\n",
      "      dateTime activityName  active_average_hr  active_calories  \\\n",
      "0   2019-11-01       {Walk}          94.000000              494   \n",
      "1   2019-11-02       {Walk}          98.000000              354   \n",
      "2   2019-11-04       {Walk}          97.000000              145   \n",
      "3   2019-11-05  {Run, Walk}         118.500000              517   \n",
      "4   2019-11-08       {Walk}          97.000000              252   \n",
      "..         ...          ...                ...              ...   \n",
      "112 2020-03-26       {Walk}         101.000000              395   \n",
      "113 2020-03-27       {Walk}          97.666667              759   \n",
      "114 2020-03-28       {Walk}         100.000000              846   \n",
      "115 2020-03-29       {Walk}          96.000000              151   \n",
      "116 2020-03-31       {Walk}         108.000000              459   \n",
      "\n",
      "     activeDuration  active_steps  elevationGain  \n",
      "0         58.883333          4664         51.816  \n",
      "1         40.966667          3035         21.336  \n",
      "2         17.066667          1284         21.336  \n",
      "3         40.550000          4966         41.453  \n",
      "4         30.733333          2094         24.384  \n",
      "..              ...           ...            ...  \n",
      "112       43.516667          3415         18.288  \n",
      "113       83.633333          6371         48.768  \n",
      "114       93.016667          7599        106.680  \n",
      "115       17.933333          1279          0.000  \n",
      "116       46.066667          3846         85.344  \n",
      "\n",
      "[117 rows x 7 columns]\n"
     ]
    }
   ],
   "source": [
    "print(final_df[final_df.isna().any(axis=1)])\n",
    "print(out_df)"
   ]
  }
 ],
 "metadata": {
  "kernelspec": {
   "display_name": "Python 3 (ipykernel)",
   "language": "python",
   "name": "python3"
  },
  "language_info": {
   "codemirror_mode": {
    "name": "ipython",
    "version": 3
   },
   "file_extension": ".py",
   "mimetype": "text/x-python",
   "name": "python",
   "nbconvert_exporter": "python",
   "pygments_lexer": "ipython3",
   "version": "3.8.12"
  }
 },
 "nbformat": 4,
 "nbformat_minor": 5
}
