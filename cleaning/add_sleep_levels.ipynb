{
 "cells": [
  {
   "cell_type": "code",
   "execution_count": 1,
   "id": "5d9438c8-97cb-441e-958f-c72c387b5cd8",
   "metadata": {},
   "outputs": [],
   "source": [
    "import pandas as pd\n",
    "import interface as itf"
   ]
  },
  {
   "cell_type": "code",
   "execution_count": 9,
   "id": "76924060-6e3f-4fe5-9af0-ce6ded92f461",
   "metadata": {},
   "outputs": [],
   "source": [
    "all_dfs = []\n",
    "for pid in range(1, 17, 1):\n",
    "    df = itf.get_sleep(pid)\n",
    "    kept_cols = [c for c in df.columns if (c == 'dateOfSleep') or ('summary' in c)]\n",
    "    df = df[kept_cols]\n",
    "    df = df.assign(pid=pid)\n",
    "    all_dfs.append(df)"
   ]
  },
  {
   "cell_type": "code",
   "execution_count": 10,
   "id": "829dec31-15c6-4a72-84af-1213b3366798",
   "metadata": {},
   "outputs": [],
   "source": [
    "pre_df = pd.concat(all_dfs, ignore_index=True, axis=0)"
   ]
  },
  {
   "cell_type": "code",
   "execution_count": 11,
   "id": "19c4b4e2-0e5b-4e27-bfa5-d1474c83b8af",
   "metadata": {},
   "outputs": [],
   "source": [
    "pre_df = pre_df.rename(columns={'dateOfSleep':'date'})\n",
    "pre_df['date'] = pd.to_datetime(pre_df['date'])"
   ]
  },
  {
   "cell_type": "code",
   "execution_count": 12,
   "id": "5fda885d-4777-4d5e-9452-7844097d81bf",
   "metadata": {},
   "outputs": [],
   "source": [
    "gold_df = pd.read_csv('../dataset/clean/day_data_gold.csv', header=0)"
   ]
  },
  {
   "cell_type": "code",
   "execution_count": 14,
   "id": "9301b869-3623-4742-9c73-b3224a4e8f56",
   "metadata": {},
   "outputs": [],
   "source": [
    "gold_df['date'] = pd.to_datetime(gold_df['date'])"
   ]
  },
  {
   "cell_type": "code",
   "execution_count": 15,
   "id": "01b07a05-9b36-4561-89dc-15abc3cd3179",
   "metadata": {},
   "outputs": [],
   "source": [
    "out_df = gold_df.merge(pre_df, how='left', on=['date','pid'])"
   ]
  },
  {
   "cell_type": "code",
   "execution_count": 17,
   "id": "34f36b9e-97bf-454e-95a1-648dd1f3636d",
   "metadata": {},
   "outputs": [],
   "source": [
    "out_df.to_csv('../dataset/clean/day_data_levels.csv', index=False)"
   ]
  }
 ],
 "metadata": {
  "kernelspec": {
   "display_name": "Python 3 (ipykernel)",
   "language": "python",
   "name": "python3"
  },
  "language_info": {
   "codemirror_mode": {
    "name": "ipython",
    "version": 3
   },
   "file_extension": ".py",
   "mimetype": "text/x-python",
   "name": "python",
   "nbconvert_exporter": "python",
   "pygments_lexer": "ipython3",
   "version": "3.8.12"
  }
 },
 "nbformat": 4,
 "nbformat_minor": 5
}
