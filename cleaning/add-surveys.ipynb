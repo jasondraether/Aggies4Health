{
 "cells": [
  {
   "cell_type": "code",
   "execution_count": 1,
   "id": "7c2f758e-aef0-401c-acaf-1fd06ce40dd6",
   "metadata": {},
   "outputs": [],
   "source": [
    "%load_ext autoreload\n",
    "%autoreload 2"
   ]
  },
  {
   "cell_type": "code",
   "execution_count": 2,
   "id": "c9066d98-8cc8-4504-9943-32da8f3cb94e",
   "metadata": {
    "tags": []
   },
   "outputs": [],
   "source": [
    "import pandas as pd\n",
    "import interface as itf"
   ]
  },
  {
   "cell_type": "code",
   "execution_count": 3,
   "id": "6d2edae7-5465-4fb1-b872-bf4d9d0f38e3",
   "metadata": {
    "tags": []
   },
   "outputs": [],
   "source": [
    "df = itf.get_wellness(2)"
   ]
  },
  {
   "cell_type": "code",
   "execution_count": 4,
   "id": "72424641-e682-4b7e-bc2f-539ec1700d87",
   "metadata": {
    "tags": []
   },
   "outputs": [],
   "source": [
    "df = df.drop(columns=['soreness_area'])"
   ]
  },
  {
   "cell_type": "code",
   "execution_count": 5,
   "id": "d7b3a6f0-9999-4d65-9c6e-08f325099fd7",
   "metadata": {
    "tags": []
   },
   "outputs": [],
   "source": [
    "df = df.rename(columns={'effective_time_frame': 'dateTime'})"
   ]
  },
  {
   "cell_type": "code",
   "execution_count": 6,
   "id": "44ee93f8-4554-4abf-8aea-f9f5461f1e39",
   "metadata": {
    "tags": []
   },
   "outputs": [],
   "source": [
    "df['dateTime'] = pd.to_datetime(pd.to_datetime(df['dateTime']).dt.date)"
   ]
  },
  {
   "cell_type": "code",
   "execution_count": 7,
   "id": "c8b41df2-e40a-4fad-b844-9ce46ccce4dc",
   "metadata": {
    "tags": []
   },
   "outputs": [],
   "source": [
    "df = df.assign(pid=1)"
   ]
  },
  {
   "cell_type": "code",
   "execution_count": 8,
   "id": "14cf5758-0341-4b7a-9263-2792b09d5f1e",
   "metadata": {
    "tags": []
   },
   "outputs": [],
   "source": [
    "df = df.rename(columns={c: 'survey_'+c for c in df.columns if c != 'dateTime' and c!= 'pid'})"
   ]
  },
  {
   "cell_type": "code",
   "execution_count": 10,
   "id": "a66b4575-70d3-484b-bd17-9b8ace8fd9be",
   "metadata": {},
   "outputs": [],
   "source": [
    "other_df = itf.get_reporting(1)"
   ]
  },
  {
   "cell_type": "code",
   "execution_count": 11,
   "id": "65e1a3a6-ef29-4b59-be8a-ea88c3e2b33e",
   "metadata": {},
   "outputs": [],
   "source": [
    "other_df['dateTime'] = pd.to_datetime(pd.to_datetime(other_df['timestamp']).dt.date)"
   ]
  },
  {
   "cell_type": "code",
   "execution_count": 12,
   "id": "6551e90b-c0ac-4540-b7ee-b9ab15a3425d",
   "metadata": {},
   "outputs": [],
   "source": [
    "other_df = other_df.drop(columns=['date', 'timestamp'])"
   ]
  },
  {
   "cell_type": "code",
   "execution_count": 13,
   "id": "bb17b7c4-5da2-47af-9166-f217759c83e7",
   "metadata": {},
   "outputs": [],
   "source": [
    "other_df = other_df.assign(pid=1)"
   ]
  },
  {
   "cell_type": "code",
   "execution_count": 34,
   "id": "f6464251-3411-4457-88fc-7b60f77f1687",
   "metadata": {},
   "outputs": [],
   "source": [
    "final_df = df.merge(other_df, how='outer', on=['dateTime', 'pid'])"
   ]
  },
  {
   "cell_type": "code",
   "execution_count": 38,
   "id": "2141b61f-bcae-409f-9933-235e3e9f8fb5",
   "metadata": {},
   "outputs": [
    {
     "name": "stdout",
     "output_type": "stream",
     "text": [
      "      dateTime  survey_fatigue  survey_mood  survey_readiness  \\\n",
      "11  2019-11-13             3.0          3.0               7.0   \n",
      "12  2019-11-13             3.0          3.0               7.0   \n",
      "14  2019-11-15             2.0          3.0               5.0   \n",
      "15  2019-11-15             2.0          3.0               5.0   \n",
      "16  2019-11-16             2.0          3.0               6.0   \n",
      "..         ...             ...          ...               ...   \n",
      "171 2020-09-02             NaN          NaN               NaN   \n",
      "172 2020-10-02             NaN          NaN               NaN   \n",
      "173 2020-11-02             NaN          NaN               NaN   \n",
      "174 2020-12-02             NaN          NaN               NaN   \n",
      "175 2020-02-16             NaN          NaN               NaN   \n",
      "\n",
      "     survey_sleep_duration_h  survey_sleep_quality  survey_soreness  \\\n",
      "11                       5.0                   3.0              3.0   \n",
      "12                       5.0                   3.0              3.0   \n",
      "14                       6.0                   3.0              2.0   \n",
      "15                       6.0                   3.0              2.0   \n",
      "16                       5.0                   2.0              2.0   \n",
      "..                       ...                   ...              ...   \n",
      "171                      NaN                   NaN              NaN   \n",
      "172                      NaN                   NaN              NaN   \n",
      "173                      NaN                   NaN              NaN   \n",
      "174                      NaN                   NaN              NaN   \n",
      "175                      NaN                   NaN              NaN   \n",
      "\n",
      "     survey_stress  pid                              meals  weight  \\\n",
      "11             2.0    1           Breakfast, Lunch, Dinner   100.0   \n",
      "12             2.0    1         Breakfast, Dinner, Evening   100.0   \n",
      "14             3.0    1  Breakfast, Lunch, Dinner, Evening   100.0   \n",
      "15             3.0    1           Breakfast, Lunch, Dinner   100.0   \n",
      "16             3.0    1                  Breakfast, Dinner   100.0   \n",
      "..             ...  ...                                ...     ...   \n",
      "171            NaN    1                      Lunch, Dinner   100.0   \n",
      "172            NaN    1           Breakfast, Lunch, Dinner   100.0   \n",
      "173            NaN    1                  Breakfast, Dinner   100.0   \n",
      "174            NaN    1           Breakfast, Lunch, Dinner   100.0   \n",
      "175            NaN    1                  Breakfast, Dinner   100.0   \n",
      "\n",
      "     glasses_of_fluid alcohol_consumed  \n",
      "11                7.0               No  \n",
      "12                6.0               No  \n",
      "14                8.0               No  \n",
      "15                8.0               No  \n",
      "16                9.0               No  \n",
      "..                ...              ...  \n",
      "171               7.0               No  \n",
      "172               8.0               No  \n",
      "173               8.0               No  \n",
      "174               8.0               No  \n",
      "175               6.0               No  \n",
      "\n",
      "[82 rows x 13 columns]\n"
     ]
    }
   ],
   "source": [
    "print(final_df[final_df['weight'].notnull()])"
   ]
  }
 ],
 "metadata": {
  "kernelspec": {
   "display_name": "Python 3 (ipykernel)",
   "language": "python",
   "name": "python3"
  },
  "language_info": {
   "codemirror_mode": {
    "name": "ipython",
    "version": 3
   },
   "file_extension": ".py",
   "mimetype": "text/x-python",
   "name": "python",
   "nbconvert_exporter": "python",
   "pygments_lexer": "ipython3",
   "version": "3.8.12"
  }
 },
 "nbformat": 4,
 "nbformat_minor": 5
}
