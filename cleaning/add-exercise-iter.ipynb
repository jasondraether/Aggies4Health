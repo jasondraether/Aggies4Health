{
 "cells": [
  {
   "cell_type": "code",
   "execution_count": 3,
   "id": "71835ede-04ab-4c7c-b2cd-f66cbcb864c9",
   "metadata": {},
   "outputs": [],
   "source": [
    "import pandas as pd\n",
    "import interface as itf"
   ]
  },
  {
   "cell_type": "code",
   "execution_count": 4,
   "id": "be44d76f-93b1-4cb8-a5c0-81d62bfe57ef",
   "metadata": {},
   "outputs": [],
   "source": [
    "df = pd.read_csv('../dataset/clean/day_data_fixed.csv', header=0)"
   ]
  },
  {
   "cell_type": "code",
   "execution_count": 7,
   "id": "ecd004de-5033-4f81-807e-524d2f1e6679",
   "metadata": {},
   "outputs": [
    {
     "name": "stdout",
     "output_type": "stream",
     "text": [
      "1\n",
      "2\n",
      "3\n",
      "4\n",
      "5\n",
      "6\n",
      "7\n",
      "8\n",
      "9\n",
      "10\n",
      "11\n",
      "12\n",
      "13\n",
      "14\n",
      "15\n",
      "16\n"
     ]
    }
   ],
   "source": [
    "all_dfs = []\n",
    "for pid in range(1, 17, 1):\n",
    "    ex_df = itf.get_exercise(pid)\n",
    "    ex_df['dateTime'] = pd.to_datetime(pd.to_datetime(ex_df['startTime']).dt.date)\n",
    "    ex_df = ex_df.drop(columns=['logId', 'activityTypeId', 'activityLevel', 'startTime'])\n",
    "    \n",
    "    agg_df = ex_df.groupby('dateTime').agg(\n",
    "        {\n",
    "            'activityName': set,\n",
    "            'averageHeartRate': 'mean',\n",
    "            'calories': 'sum',\n",
    "            'activeDuration': 'sum',\n",
    "            'steps': 'sum',\n",
    "            'elevationGain': 'sum'\n",
    "        }\n",
    "    ).reset_index()\n",
    "    agg_df['activeDuration'] /= (1000*60)\n",
    "    agg_df = agg_df.assign(pid=pid)\n",
    "    agg_df = agg_df.rename(columns={'steps': 'active_steps', 'averageHeartRate':'active_average_hr', 'calories': 'active_calories'})\n",
    "    \n",
    "    all_dfs.append(agg_df)\n",
    "    print(pid)"
   ]
  },
  {
   "cell_type": "code",
   "execution_count": 8,
   "id": "5cd8ca2d-dad7-4d00-94c2-04628b8384a9",
   "metadata": {},
   "outputs": [],
   "source": [
    "total_ex_df = pd.concat(all_dfs, axis=0, ignore_index=True)"
   ]
  },
  {
   "cell_type": "code",
   "execution_count": 9,
   "id": "a9053668-0dda-498b-8cb0-1c2e2b289535",
   "metadata": {},
   "outputs": [
    {
     "name": "stdout",
     "output_type": "stream",
     "text": [
      "       dateTime    activityName  active_average_hr  active_calories  \\\n",
      "0    2019-11-01          {Walk}               94.0              494   \n",
      "1    2019-11-02          {Walk}               98.0              354   \n",
      "2    2019-11-04          {Walk}               97.0              145   \n",
      "3    2019-11-05     {Walk, Run}              118.5              517   \n",
      "4    2019-11-08          {Walk}               97.0              252   \n",
      "...         ...             ...                ...              ...   \n",
      "1367 2020-02-22          {Walk}              110.5              372   \n",
      "1368 2020-03-09          {Walk}              102.0               92   \n",
      "1369 2020-03-16          {Walk}              106.0               95   \n",
      "1370 2020-03-20          {Walk}              106.0              109   \n",
      "1371 2020-03-29  {Outdoor Bike}               71.0               75   \n",
      "\n",
      "      activeDuration  active_steps  elevationGain  pid  \n",
      "0          58.883333        4664.0         51.816    1  \n",
      "1          40.966667        3035.0         21.336    1  \n",
      "2          17.066667        1284.0         21.336    1  \n",
      "3          40.550000        4966.0         41.453    1  \n",
      "4          30.733333        2094.0         24.384    1  \n",
      "...              ...           ...            ...  ...  \n",
      "1367       54.633333        4638.0         21.336   16  \n",
      "1368       15.366667        1064.0         15.240   16  \n",
      "1369       17.066667        1030.0         15.240   16  \n",
      "1370       19.633333        1067.0         18.288   16  \n",
      "1371       23.900000           0.0          0.000   16  \n",
      "\n",
      "[1372 rows x 8 columns]\n"
     ]
    }
   ],
   "source": [
    "print(total_ex_df)"
   ]
  },
  {
   "cell_type": "code",
   "execution_count": 15,
   "id": "e8827c6b-9ceb-4c7d-9399-d3f1553541e8",
   "metadata": {},
   "outputs": [],
   "source": [
    "df['dateTime'] = pd.to_datetime(df['dateTime'])"
   ]
  },
  {
   "cell_type": "code",
   "execution_count": 16,
   "id": "29fbb26d-4306-4d09-b54d-c6f213db5a5f",
   "metadata": {},
   "outputs": [],
   "source": [
    "final_df = df.merge(total_ex_df, on=['dateTime', 'pid'], how='left')"
   ]
  },
  {
   "cell_type": "code",
   "execution_count": 18,
   "id": "3e261907-0f43-4695-8969-2f31ebd5bf7f",
   "metadata": {},
   "outputs": [],
   "source": [
    "final_df.to_csv('../dataset/clean/day_data_v3.csv', index=False)"
   ]
  }
 ],
 "metadata": {
  "kernelspec": {
   "display_name": "Python 3 (ipykernel)",
   "language": "python",
   "name": "python3"
  },
  "language_info": {
   "codemirror_mode": {
    "name": "ipython",
    "version": 3
   },
   "file_extension": ".py",
   "mimetype": "text/x-python",
   "name": "python",
   "nbconvert_exporter": "python",
   "pygments_lexer": "ipython3",
   "version": "3.8.12"
  }
 },
 "nbformat": 4,
 "nbformat_minor": 5
}
