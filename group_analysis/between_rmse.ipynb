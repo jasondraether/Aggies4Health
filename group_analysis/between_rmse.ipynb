{
 "cells": [
  {
   "cell_type": "code",
   "execution_count": 1,
   "id": "4e9c7760-457a-4c36-b0e3-3b14439741c5",
   "metadata": {},
   "outputs": [],
   "source": [
    "import pandas as pd\n",
    "import numpy as np\n",
    "import os"
   ]
  },
  {
   "cell_type": "code",
   "execution_count": 63,
   "id": "0207dc91-76ab-443e-ac56-e6f186b09db8",
   "metadata": {},
   "outputs": [],
   "source": [
    "df = pd.read_csv('../dataset/clean/sample_sorted.csv', header=0)"
   ]
  },
  {
   "cell_type": "code",
   "execution_count": 64,
   "id": "028d1a3b-832c-4e9f-9e1b-1fdba54bad30",
   "metadata": {},
   "outputs": [],
   "source": [
    "# Drop bad PID's, take the mean for all features grouped by PID\n",
    "df = df[~df.pid.isin([4,12,13,15])].dropna().groupby('pid').mean().reset_index()\n",
    "df['pid'] = df['pid'].astype(int)"
   ]
  },
  {
   "cell_type": "code",
   "execution_count": 65,
   "id": "00045071-c150-4582-aa95-8130cc31e0d9",
   "metadata": {},
   "outputs": [],
   "source": [
    "# Cluster groups and total number of participants\n",
    "groups = [[7,8,11],[9,10,14,16],[1,2],[3,5,6]]\n",
    "n_total = 12"
   ]
  },
  {
   "cell_type": "code",
   "execution_count": 69,
   "id": "d943cb0e-fea5-4723-ac5f-2c01ed08b689",
   "metadata": {},
   "outputs": [
    {
     "name": "stdout",
     "output_type": "stream",
     "text": [
      "group: [7, 8, 11]\n",
      "in: 0.6648095162344793\n",
      "out: 0.4189110825080329\n",
      "\n",
      "group: [9, 10, 14, 16]\n",
      "in: 0.8092317886156135\n",
      "out: 0.6246948815195021\n",
      "\n",
      "group: [1, 2]\n",
      "in: 0.507577001024603\n",
      "out: 0.28997363087976835\n",
      "\n",
      "group: [3, 5, 6]\n",
      "in: 0.5459798345734331\n",
      "out: 0.4259135240933238\n",
      "\n"
     ]
    },
    {
     "name": "stderr",
     "output_type": "stream",
     "text": [
      "C:\\Users\\jason\\AppData\\Local\\Temp/ipykernel_9192/1065523842.py:9: UserWarning: Boolean Series key will be reindexed to match DataFrame index.\n",
      "  rmse_in = df_in[df.pid != pid] - df[df.pid == pid].values.squeeze()\n",
      "C:\\Users\\jason\\AppData\\Local\\Temp/ipykernel_9192/1065523842.py:14: UserWarning: Boolean Series key will be reindexed to match DataFrame index.\n",
      "  rmse_out = df_out[df.pid != pid] - df[df.pid == pid].values.squeeze()\n"
     ]
    }
   ],
   "source": [
    "# Go through each group, calculate in and out NRMSE, and display\n",
    "for g in groups:\n",
    "    # Get PID's in group and out of group\n",
    "    df_out = df[~df.pid.isin(g)].dropna()\n",
    "    df_in = df[df.pid.isin(g)].dropna()\n",
    "    # Hold total NRMSE\n",
    "    total_in = 0.0\n",
    "    total_out = 0.0\n",
    "    for pid in g:\n",
    "        # Get in-group NRMSE\n",
    "        rmse_in = df_in[df.pid != pid] - df[df.pid == pid].values.squeeze()\n",
    "        rmse_in = rmse_in.drop(columns=['pid']).pow(2).sum().pow(0.5)\n",
    "        rmse_in /= (df.max(axis=0) - df.min(axis=0))\n",
    "        rmse_in = rmse_in.mean()\n",
    "        # Get out-group NRMSE\n",
    "        rmse_out = df_out[df.pid != pid] - df[df.pid == pid].values.squeeze()\n",
    "        rmse_out = rmse_out.drop(columns=['pid']).pow(2).sum().pow(0.5)\n",
    "        rmse_out /= (df.max(axis=0) - df.min(axis=0))\n",
    "        rmse_out = rmse_out.mean()\n",
    "        # Add to total, average based on number in group\n",
    "        total_in += (rmse_in/(len(g)-1))\n",
    "        total_out += (rmse_out/(n_total-len(g)))\n",
    "    \n",
    "    print('Group:',g)\n",
    "    print('In-Group:',total_in)\n",
    "    print('Out-Group:',total_out)\n",
    "    print('')\n",
    "    "
   ]
  }
 ],
 "metadata": {
  "kernelspec": {
   "display_name": "Python 3 (ipykernel)",
   "language": "python",
   "name": "python3"
  },
  "language_info": {
   "codemirror_mode": {
    "name": "ipython",
    "version": 3
   },
   "file_extension": ".py",
   "mimetype": "text/x-python",
   "name": "python",
   "nbconvert_exporter": "python",
   "pygments_lexer": "ipython3",
   "version": "3.8.12"
  }
 },
 "nbformat": 4,
 "nbformat_minor": 5
}
