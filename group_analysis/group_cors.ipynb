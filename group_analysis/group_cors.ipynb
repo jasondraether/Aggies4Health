{
 "cells": [
  {
   "cell_type": "code",
   "execution_count": 1,
   "id": "cde15268-ecd8-4847-afc2-11baf0ba4798",
   "metadata": {},
   "outputs": [],
   "source": [
    "import pandas as pd\n",
    "import numpy as np\n",
    "import matplotlib.pyplot as plt\n",
    "import os\n",
    "import seaborn as sns"
   ]
  },
  {
   "cell_type": "code",
   "execution_count": null,
   "id": "8dd75e91-0a4d-4f22-8355-89450638f274",
   "metadata": {},
   "outputs": [],
   "source": [
    "df = pd.read_csv('../dataset/clean/sample_sorted.csv', header=0)"
   ]
  },
  {
   "cell_type": "code",
   "execution_count": 67,
   "id": "eba57a4a-0cac-4c10-9466-bfb990c453be",
   "metadata": {},
   "outputs": [],
   "source": [
    "c0 = [3, 5, 6] # Looking at just cluster 0"
   ]
  },
  {
   "cell_type": "code",
   "execution_count": 68,
   "id": "3d75e02a-b59e-49b3-b77e-e2cbeed0f187",
   "metadata": {},
   "outputs": [],
   "source": [
    "# Only select pid's in that cluster\n",
    "df_sub = df.where(df.pid.isin(c0))\n",
    "df_sub = df_sub[~df_sub.pid.isna()]\n",
    "df_sub['pid'] = df_sub['pid'].astype(int)\n",
    "df_sub['date'] = pd.to_datetime(df_sub['date'])"
   ]
  },
  {
   "cell_type": "code",
   "execution_count": 71,
   "id": "8c1d93f3-37fe-42ad-8698-2b361b9def22",
   "metadata": {},
   "outputs": [],
   "source": [
    "# Match up all participants along columns by date. Make new columns for each participant\n",
    "combined_df = None\n",
    "for pid, pid_df in df_sub.groupby('pid'):\n",
    "    pid_df = pid_df.rename(columns={x: x+'_'+str(pid) for x in pid_df.columns if x != 'date'})\n",
    "    pid_df = pid_df.where(~pid_df['date'].isna()).drop_duplicates('date')\n",
    "    if combined_df is None:\n",
    "        combined_df = pid_df\n",
    "    else:\n",
    "        combined_df['date'] = pd.to_datetime(combined_df['date'])\n",
    "        pid_df['date'] = pd.to_datetime(pid_df['date'])\n",
    "        combined_df = combined_df.merge(pid_df, on='date', how='inner')\n",
    "        "
   ]
  },
  {
   "cell_type": "code",
   "execution_count": 72,
   "id": "78747e45-a00b-417b-8fce-14ac781b7a17",
   "metadata": {
    "tags": []
   },
   "outputs": [],
   "source": [
    "# Calculate correlations and unstack them so we can look at individual values and pairs\n",
    "corrs = combined_df.corr()\n",
    "s = corrs.unstack()\n",
    "so = s.sort_values(ascending=False)"
   ]
  },
  {
   "cell_type": "code",
   "execution_count": 73,
   "id": "b73275f7-1e91-444f-a5f5-0c300bddfa4f",
   "metadata": {
    "collapsed": true,
    "jupyter": {
     "outputs_hidden": true
    },
    "tags": []
   },
   "outputs": [
    {
     "name": "stdout",
     "output_type": "stream",
     "text": [
      "('survey_stress_5', 'survey_stress_6') 0.5820518408778235\n",
      "('total_calories_6', 'total_calories_3') 0.3878723436235288\n",
      "('vaminutes_3', 'vaminutes_6') 0.37064675220100674\n",
      "('hr_std_6', 'hr_std_5') 0.367792035590586\n",
      "('total_calories_5', 'total_calories_3') 0.34881634407474776\n",
      "('hr_max_5', 'hr_max_6') 0.34673996889186504\n",
      "('rem_sleep_count_6', 'rem_sleep_count_3') 0.341733978472694\n",
      "('total_steps_6', 'total_steps_3') 0.34039150292375653\n",
      "('hr_min_3', 'hr_min_5') 0.33237678203383497\n",
      "('hr_max_3', 'hr_max_6') 0.31558732863227107\n",
      "('total_distance_3', 'total_distance_6') 0.3092762983773614\n",
      "('total_steps_5', 'total_steps_3') 0.2797266112536312\n",
      "('laminutes_6', 'laminutes_3') 0.2680435158097036\n",
      "('wake_sleep_count_3', 'wake_sleep_count_6') 0.2608741405750799\n",
      "('total_distance_5', 'total_distance_3') 0.2607907759589671\n",
      "('resthr_5', 'resthr_6') 0.25316887842039487\n",
      "('hr_mean_5', 'hr_mean_6') 0.2510273666394891\n",
      "('hr_std_3', 'hr_std_6') 0.24652014296223973\n",
      "('hr_median_6', 'hr_median_5') 0.24340736647296743\n",
      "('light_sleep_count_3', 'light_sleep_count_6') 0.23175554525820424\n",
      "('hr_median_5', 'hr_median_3') 0.21441054692874545\n",
      "('hr_max_3', 'hr_max_5') 0.21314412843343883\n",
      "('light_sleep_minutes_6', 'light_sleep_minutes_3') 0.21181836578881003\n",
      "('survey_sleep_quality_5', 'survey_sleep_quality_6') 0.2105798931586654\n",
      "('hr_std_5', 'hr_std_3') 0.2102138073376171\n",
      "('vaminutes_6', 'vaminutes_5') 0.1997116749116799\n",
      "('minutes_after_wakeup_6', 'minutes_after_wakeup_5') 0.1963561155194223\n",
      "('survey_readiness_5', 'survey_readiness_6') 0.19357049989646397\n",
      "('revitalization_score_5', 'revitalization_score_6') 0.19148579184419925\n",
      "('sedminutes_6', 'sedminutes_5') 0.18806095669083964\n",
      "('hr_mean_6', 'hr_mean_3') 0.1782046614846533\n",
      "('hr_mean_3', 'hr_mean_5') 0.17746744705676848\n",
      "('hr_min_6', 'hr_min_3') 0.1764680590742178\n",
      "('maminutes_5', 'maminutes_3') 0.16320789831995156\n",
      "('sedminutes_5', 'sedminutes_3') 0.16132297124018471\n",
      "('deep_sleep_count_6', 'deep_sleep_count_5') 0.1611068768971705\n",
      "('sedminutes_6', 'sedminutes_3') 0.15602293021058344\n",
      "('survey_mood_5', 'survey_mood_3') 0.1548527998311205\n",
      "('wake_sleep_minutes_6', 'wake_sleep_minutes_3') 0.14710503577623338\n",
      "('minutes_woken_up_6', 'minutes_woken_up_3') 0.14710503577623338\n",
      "('duration_score_5', 'duration_score_6') 0.14322782176235646\n",
      "('maminutes_3', 'maminutes_6') 0.13779099682464555\n",
      "('vaminutes_5', 'vaminutes_3') 0.13723514343281365\n",
      "('restlessness_6', 'restlessness_5') 0.1292707730771401\n",
      "('hr_min_5', 'hr_min_6') 0.1163862044349236\n",
      "('total_calories_5', 'total_calories_6') 0.10777639491598943\n",
      "('laminutes_5', 'laminutes_3') 0.09657555134619247\n",
      "('revitalization_score_5', 'revitalization_score_3') 0.0780909614919515\n",
      "('composition_score_6', 'composition_score_3') 0.06576438116423027\n",
      "('total_distance_5', 'total_distance_6') 0.06555376442845341\n",
      "('survey_soreness_3', 'survey_soreness_5') 0.06019292654288484\n",
      "('total_steps_5', 'total_steps_6') 0.05566025128294347\n",
      "('minutes_after_wakeup_6', 'minutes_after_wakeup_3') 0.052968834559074036\n",
      "('survey_fatigue_5', 'survey_fatigue_6') 0.05013806979968226\n",
      "('deep_sleep_minutes_6', 'deep_sleep_minutes_5') 0.04710064491807951\n",
      "('hr_median_6', 'hr_median_3') 0.028247662402358324\n",
      "('overall_score_6', 'overall_score_5') 0.0280392319002657\n",
      "('deep_sleep_minutes_6', 'deep_sleep_minutes_3') 0.020893778767902153\n",
      "('deep_sleep_count_5', 'deep_sleep_count_3') 0.009605522072924857\n",
      "('light_sleep_count_5', 'light_sleep_count_3') 0.0029722164512138785\n",
      "('minutes_asleep_3', 'minutes_asleep_6') -0.0025934065795414074\n",
      "('maminutes_5', 'maminutes_6') -0.003579863714234681\n",
      "('light_sleep_count_5', 'light_sleep_count_6') -0.011398535348936657\n",
      "('survey_mood_5', 'survey_mood_6') -0.012499023551925914\n",
      "('resthr_3', 'resthr_5') -0.015880294815644822\n",
      "('wake_sleep_count_3', 'wake_sleep_count_5') -0.017812328433566924\n",
      "('duration_score_3', 'duration_score_6') -0.018338452851151897\n",
      "('minutes_asleep_5', 'minutes_asleep_6') -0.02237384799944425\n",
      "('sleep_duration_6', 'sleep_duration_3') -0.030605528946031524\n",
      "('time_in_bed_6', 'time_in_bed_3') -0.03060552894603157\n",
      "('restlessness_3', 'restlessness_6') -0.03113169626330202\n",
      "('rem_sleep_minutes_3', 'rem_sleep_minutes_6') -0.03740807202089579\n",
      "('revitalization_score_3', 'revitalization_score_6') -0.04546913971498443\n",
      "('rem_sleep_count_5', 'rem_sleep_count_6') -0.045951399012214164\n",
      "('time_in_bed_5', 'time_in_bed_6') -0.05037590304618078\n",
      "('sleep_duration_5', 'sleep_duration_6') -0.05037590304618085\n",
      "('rem_sleep_minutes_6', 'rem_sleep_minutes_5') -0.05286886184812541\n",
      "('restlessness_3', 'restlessness_5') -0.055020359521331524\n",
      "('wake_sleep_count_6', 'wake_sleep_count_5') -0.05752346533573782\n",
      "('light_sleep_minutes_3', 'light_sleep_minutes_5') -0.06716953249307878\n",
      "('minutes_after_wakeup_5', 'minutes_after_wakeup_3') -0.07007553051789593\n",
      "('survey_mood_3', 'survey_mood_6') -0.0726965717508989\n",
      "('composition_score_5', 'composition_score_6') -0.07927636533356218\n",
      "('deep_sleep_count_6', 'deep_sleep_count_3') -0.09008682370269569\n",
      "('laminutes_5', 'laminutes_6') -0.09208628616198554\n",
      "('wake_sleep_minutes_5', 'wake_sleep_minutes_6') -0.11061859893799206\n",
      "('minutes_woken_up_5', 'minutes_woken_up_6') -0.11061859893799206\n",
      "('survey_stress_5', 'survey_stress_3') -0.1161314491708146\n",
      "('light_sleep_minutes_5', 'light_sleep_minutes_6') -0.12957226517050813\n",
      "('overall_score_6', 'overall_score_3') -0.16860351919118421\n",
      "('rem_sleep_count_5', 'rem_sleep_count_3') -0.16923948017152746\n",
      "('minutes_woken_up_5', 'minutes_woken_up_3') -0.1769848422967898\n",
      "('wake_sleep_minutes_5', 'wake_sleep_minutes_3') -0.1769848422967898\n",
      "('deep_sleep_minutes_5', 'deep_sleep_minutes_3') -0.18300422738640545\n",
      "('survey_stress_6', 'survey_stress_3') -0.20429694595887055\n",
      "('rem_sleep_minutes_3', 'rem_sleep_minutes_5') -0.22210924744466107\n",
      "('resthr_6', 'resthr_3') -0.22387792426241326\n",
      "('composition_score_3', 'composition_score_5') -0.23578255692884936\n",
      "('overall_score_5', 'overall_score_3') -0.33168501383190685\n",
      "('minutes_asleep_5', 'minutes_asleep_3') -0.362340007620745\n",
      "('time_in_bed_5', 'time_in_bed_3') -0.3760118116072329\n",
      "('sleep_duration_5', 'sleep_duration_3') -0.37601181160723307\n",
      "('duration_score_3', 'duration_score_5') -0.40226139857078413\n",
      "('survey_fatigue_3', 'survey_fatigue_5') nan\n",
      "('survey_fatigue_3', 'survey_fatigue_6') nan\n",
      "('survey_readiness_3', 'survey_readiness_5') nan\n",
      "('survey_readiness_3', 'survey_readiness_6') nan\n",
      "('survey_sleep_quality_3', 'survey_sleep_quality_5') nan\n",
      "('survey_sleep_quality_3', 'survey_sleep_quality_6') nan\n",
      "('survey_soreness_3', 'survey_soreness_6') nan\n",
      "('minutes_to_fall_asleep_3', 'minutes_to_fall_asleep_5') nan\n",
      "('minutes_to_fall_asleep_3', 'minutes_to_fall_asleep_6') nan\n",
      "('pid_3', 'pid_5') nan\n",
      "('pid_3', 'pid_6') nan\n",
      "('survey_soreness_5', 'survey_soreness_6') nan\n",
      "('minutes_to_fall_asleep_5', 'minutes_to_fall_asleep_6') nan\n",
      "('pid_5', 'pid_6') nan\n"
     ]
    }
   ],
   "source": [
    "# Print rules only where the features match\n",
    "exists = set()\n",
    "for pair, corr in so.items():\n",
    "    # Repeated pair\n",
    "    if frozenset(pair) in exists: continue\n",
    "    l, r = pair\n",
    "    # PID matches, not interesting\n",
    "    if l.split('_')[-1] == r.split('_')[-1]: continue\n",
    "    # Different f eatures\n",
    "    if ''.join(l.split('_')[:-1]) != ''.join(r.split('_')[:-1]): continue\n",
    "    \n",
    "    exists.add(frozenset(pair))\n",
    "    print(pair, corr)"
   ]
  }
 ],
 "metadata": {
  "kernelspec": {
   "display_name": "Python 3 (ipykernel)",
   "language": "python",
   "name": "python3"
  },
  "language_info": {
   "codemirror_mode": {
    "name": "ipython",
    "version": 3
   },
   "file_extension": ".py",
   "mimetype": "text/x-python",
   "name": "python",
   "nbconvert_exporter": "python",
   "pygments_lexer": "ipython3",
   "version": "3.8.12"
  }
 },
 "nbformat": 4,
 "nbformat_minor": 5
}
