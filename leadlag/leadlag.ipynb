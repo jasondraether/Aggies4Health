{
 "cells": [
  {
   "cell_type": "code",
   "execution_count": null,
   "id": "ec2d80d2-4759-4aee-9e6f-e3cafd656b30",
   "metadata": {},
   "outputs": [],
   "source": [
    "import pandas as pd\n",
    "import numpy as np\n",
    "import matplotlib.pyplot as plt\n",
    "import os\n",
    "import seaborn as sns\n",
    "from itertools import permutations, combinations"
   ]
  },
  {
   "cell_type": "code",
   "execution_count": null,
   "id": "62ced747-7af3-40ce-9805-38dfda6707cc",
   "metadata": {},
   "outputs": [],
   "source": [
    "sns.set_style(\"darkgrid\")"
   ]
  },
  {
   "cell_type": "code",
   "execution_count": null,
   "id": "4ca6b3e8-1506-4783-b837-309a966bda54",
   "metadata": {},
   "outputs": [],
   "source": [
    "df = pd.read_csv('../dataset/clean/sample_sorted.csv', header=0)"
   ]
  },
  {
   "cell_type": "code",
   "execution_count": null,
   "id": "c5d8f003-b6b0-4da3-89a4-ad6fcbcad406",
   "metadata": {
    "tags": []
   },
   "outputs": [],
   "source": [
    "# Perform leadlag for every combination of features across all participants (LONG)\n",
    "pairs = list(combinations(df.columns, 2))\n",
    "upper = 14\n",
    "corr_range = list(range(-upper,upper+1,1))\n",
    "# Every possible feature combination has leadlag computed for it. PLotted based on\n",
    "# the delay used to shift one signal. Participants are grouped and then concatenated\n",
    "# so everything matches up\n",
    "for x, y in pairs:\n",
    "    if (df[x].dtype == object) or (df[y].dtype == object) or x == 'pid' or y == 'pid': continue\n",
    "    pid_dfs = []\n",
    "    shift_dfs = []\n",
    "    for pid, pid_df in df.groupby('pid'):\n",
    "        pid_dfs.append(pid_df.sort_values('date')[x])\n",
    "        shift_dfs.append(pid_df.sort_values('date')[y])\n",
    "    \n",
    "    # Shift all participant dataframes, concatenate, and compute correlations\n",
    "    base_df = pd.concat(pid_dfs, axis=0, ignore_index=True)\n",
    "    cors = []\n",
    "    for i in corr_range:\n",
    "        outer_df = pd.concat([s_df.shift(i) for s_df in shift_dfs], axis=0, ignore_index=True)\n",
    "        cors.append(base_df.corr(outer_df))\n",
    "    \n",
    "    # Plot\n",
    "    plt.figure(figsize=(12,10))\n",
    "    sns.barplot(x=corr_range, y=cors, color='blue')\n",
    "    plt.title(f'{x}-{y}')\n",
    "    plt.show()\n",
    "    plt.close()      "
   ]
  }
 ],
 "metadata": {
  "kernelspec": {
   "display_name": "Python 3 (ipykernel)",
   "language": "python",
   "name": "python3"
  },
  "language_info": {
   "codemirror_mode": {
    "name": "ipython",
    "version": 3
   },
   "file_extension": ".py",
   "mimetype": "text/x-python",
   "name": "python",
   "nbconvert_exporter": "python",
   "pygments_lexer": "ipython3",
   "version": "3.8.12"
  }
 },
 "nbformat": 4,
 "nbformat_minor": 5
}
