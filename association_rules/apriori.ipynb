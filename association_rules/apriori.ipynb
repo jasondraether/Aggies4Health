{
 "cells": [
  {
   "cell_type": "code",
   "execution_count": null,
   "id": "aa1ccc39-a01a-4d9e-9ba3-3901705576c2",
   "metadata": {},
   "outputs": [],
   "source": [
    "import numpy as np\n",
    "import pandas as pd\n",
    "from mlxtend.frequent_patterns import apriori, association_rules\n",
    "from mlxtend.preprocessing import TransactionEncoder"
   ]
  },
  {
   "cell_type": "code",
   "execution_count": null,
   "id": "8a71fbb7-9af7-4c1a-bbe9-9380234b1945",
   "metadata": {},
   "outputs": [],
   "source": [
    "test_df = all_df.drop(columns=exempt_cols)"
   ]
  },
  {
   "cell_type": "code",
   "execution_count": null,
   "id": "612ab076-6a35-4e02-b4ec-9575ff52f31c",
   "metadata": {},
   "outputs": [],
   "source": [
    "baskets = [list(row.dropna()) for _, row in test_df.iterrows()]"
   ]
  },
  {
   "cell_type": "code",
   "execution_count": null,
   "id": "95ba0b24-aef9-4150-8c59-df4d7a06eff5",
   "metadata": {},
   "outputs": [],
   "source": [
    "final_baskets = []\n",
    "for basket in baskets:\n",
    "    new_basket = []\n",
    "    for item in basket:\n",
    "        new_basket += item.split(',')\n",
    "    final_baskets.append(new_basket)"
   ]
  },
  {
   "cell_type": "code",
   "execution_count": null,
   "id": "54f2771f-e550-411f-bed4-6cfb5e7d917e",
   "metadata": {},
   "outputs": [],
   "source": [
    "te = TransactionEncoder()\n",
    "te_ary = te.fit(final_baskets).transform(final_baskets)\n",
    "df = pd.DataFrame(te_ary, columns=te.columns_)"
   ]
  },
  {
   "cell_type": "code",
   "execution_count": null,
   "id": "3b886afd-7c29-436b-9f3b-8ef0212ab84c",
   "metadata": {},
   "outputs": [],
   "source": [
    "itemsets = apriori(df, min_support=0.15, use_colnames=True)\n",
    "rules = association_rules(itemsets)\n",
    "for left, right in zip(rules['antecedents'], rules['consequents']):\n",
    "    print(', '.join(list(left)), '-->', ', '.join(list(right)))\n"
   ]
  }
 ],
 "metadata": {
  "kernelspec": {
   "display_name": "Python 3 (ipykernel)",
   "language": "python",
   "name": "python3"
  },
  "language_info": {
   "codemirror_mode": {
    "name": "ipython",
    "version": 3
   },
   "file_extension": ".py",
   "mimetype": "text/x-python",
   "name": "python",
   "nbconvert_exporter": "python",
   "pygments_lexer": "ipython3",
   "version": "3.8.12"
  }
 },
 "nbformat": 4,
 "nbformat_minor": 5
}
