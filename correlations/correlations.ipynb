{
 "cells": [
  {
   "cell_type": "code",
   "execution_count": 1,
   "id": "e68f14d6-3a28-4a33-9f74-a4e03c44a519",
   "metadata": {},
   "outputs": [],
   "source": [
    "%load_ext autoreload\n",
    "%autoreload 2"
   ]
  },
  {
   "cell_type": "code",
   "execution_count": 2,
   "id": "5f0d8045-09ef-4c72-9de1-ba98cdba02e0",
   "metadata": {},
   "outputs": [],
   "source": [
    "import interface as itf\n",
    "import pandas as pd\n",
    "from scipy.stats import pearsonr\n",
    "import numpy as np"
   ]
  },
  {
   "cell_type": "code",
   "execution_count": 3,
   "id": "a3cd944c-798b-4686-b1e5-a88605f74b51",
   "metadata": {},
   "outputs": [],
   "source": [
    "pt = 1"
   ]
  },
  {
   "cell_type": "code",
   "execution_count": 80,
   "id": "7e012f1a-00d7-4fe2-a3e8-04b80dc61c2a",
   "metadata": {},
   "outputs": [],
   "source": [
    "hr_df = itf.get_hr(pt)\n",
    "hr_avg = hr_df.groupby(hr_df.dateTime.dt.date).mean().reset_index()\n",
    "hr_avg['justDate'] = pd.to_datetime(hr_avg['dateTime'])"
   ]
  },
  {
   "cell_type": "code",
   "execution_count": 81,
   "id": "0d3e53c9-c946-4354-8917-a118fdde1972",
   "metadata": {},
   "outputs": [],
   "source": [
    "sleep_df = itf.get_sleep(pt)\n",
    "sleep_df['duration_hours'] = sleep_df['duration']/(1000*60*60)\n",
    "sleep_df['justDate'] = pd.to_datetime(sleep_df['dateOfSleep'])"
   ]
  },
  {
   "cell_type": "code",
   "execution_count": 82,
   "id": "5521263e-0977-49c9-a76d-96975d37c7f6",
   "metadata": {},
   "outputs": [],
   "source": [
    "calories_df = itf.get_calories(pt)\n",
    "calorie_sums = calories_df.groupby(calories_df.dateTime.dt.date).sum().reset_index()\n",
    "calorie_sums['justDate'] = pd.to_datetime(calorie_sums['dateTime'])"
   ]
  },
  {
   "cell_type": "code",
   "execution_count": 87,
   "id": "a581489f-59e5-4640-b8d4-dc66004df6d7",
   "metadata": {},
   "outputs": [],
   "source": [
    "combined_df = pd.merge(sleep_df, calorie_sums, on='justDate')\n",
    "combined_df = pd.merge(combined_df, hr_avg, on='justDate')\n",
    "combined_df[['duration_hours', 'value']].corr()\n",
    "\n",
    "sleep_hours, cals, hr = combined_df['duration_hours'].to_numpy(), combined_df['value'].to_numpy(), combined_df['bpm'].to_numpy()"
   ]
  },
  {
   "cell_type": "code",
   "execution_count": 88,
   "id": "754e4be2-8c5e-4f64-8efc-5337e74e1d99",
   "metadata": {},
   "outputs": [
    {
     "name": "stdout",
     "output_type": "stream",
     "text": [
      "(-0.12001267772650606, 0.13690055868737833)\n",
      "(-0.2482981005285311, 0.0018382156175624368)\n",
      "(0.8101903628057792, 2.547386478211795e-37)\n"
     ]
    }
   ],
   "source": [
    "print(pearsonr(sleep_hours, cals))\n",
    "print(pearsonr(sleep_hours, hr))\n",
    "print(pearsonr(cals, hr))\n"
   ]
  },
  {
   "cell_type": "code",
   "execution_count": 4,
   "id": "1fb41c5c-ae3a-4baf-bfa3-25c348227f02",
   "metadata": {},
   "outputs": [],
   "source": [
    "all_sleep_hours = []\n",
    "all_cals = []\n",
    "all_hr = []\n",
    "for pt in range(1, 17, 1):\n",
    "    hr_df = itf.get_hr(pt)\n",
    "    hr_avg = hr_df.groupby(hr_df.dateTime.dt.date).mean().reset_index()\n",
    "    hr_avg['justDate'] = pd.to_datetime(hr_avg['dateTime'])\n",
    "    sleep_df = itf.get_sleep(pt)\n",
    "    sleep_df['duration_hours'] = sleep_df['duration']/(1000*60*60)\n",
    "    sleep_df['justDate'] = pd.to_datetime(sleep_df['dateOfSleep'])\n",
    "    calories_df = itf.get_calories(pt)\n",
    "    calorie_sums = calories_df.groupby(calories_df.dateTime.dt.date).sum().reset_index()\n",
    "    calorie_sums['justDate'] = pd.to_datetime(calorie_sums['dateTime'])\n",
    "    combined_df = pd.merge(sleep_df, calorie_sums, on='justDate')\n",
    "    combined_df = pd.merge(combined_df, hr_avg, on='justDate')\n",
    "    combined_df[['duration_hours', 'value']].corr()\n",
    "    sleep_hours, cals, hr = combined_df['duration_hours'].to_numpy(), combined_df['value'].to_numpy(), combined_df['bpm'].to_numpy()\n",
    "    all_sleep_hours.append(sleep_hours)\n",
    "    all_cals.append(cals)\n",
    "    all_hr.append(hr)"
   ]
  },
  {
   "cell_type": "code",
   "execution_count": 5,
   "id": "a7882524-84ba-429e-ab82-f8bd6ac222a5",
   "metadata": {},
   "outputs": [],
   "source": [
    "sleep_com = np.concatenate(all_sleep_hours)\n",
    "cals_com = np.concatenate(all_cals)\n",
    "hr_com = np.concatenate(all_hr)"
   ]
  },
  {
   "cell_type": "code",
   "execution_count": 6,
   "id": "46fa5956-aae2-4006-b949-7df364f76460",
   "metadata": {},
   "outputs": [
    {
     "name": "stdout",
     "output_type": "stream",
     "text": [
      "(-0.06208833531659131, 0.005302988200474865)\n",
      "(0.02758721532663117, 0.21578177442854454)\n",
      "(0.03508018990900571, 0.11543814837698281)\n",
      "(2015,)\n",
      "(2015,)\n",
      "(2015,)\n"
     ]
    }
   ],
   "source": [
    "print(pearsonr(sleep_com, cals_com))\n",
    "print(pearsonr(sleep_com, hr_com))\n",
    "print(pearsonr(cals_com, hr_com))\n",
    "print(cals_com.shape)\n",
    "print(hr_com.shape)\n",
    "print(sleep_com.shape)"
   ]
  }
 ],
 "metadata": {
  "kernelspec": {
   "display_name": "Python 3 (ipykernel)",
   "language": "python",
   "name": "python3"
  },
  "language_info": {
   "codemirror_mode": {
    "name": "ipython",
    "version": 3
   },
   "file_extension": ".py",
   "mimetype": "text/x-python",
   "name": "python",
   "nbconvert_exporter": "python",
   "pygments_lexer": "ipython3",
   "version": "3.8.12"
  }
 },
 "nbformat": 4,
 "nbformat_minor": 5
}
