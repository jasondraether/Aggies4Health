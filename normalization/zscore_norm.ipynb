{
 "cells": [
  {
   "cell_type": "code",
   "execution_count": 1,
   "id": "4e4c8685-36f4-46b1-926f-167a27df3978",
   "metadata": {},
   "outputs": [],
   "source": [
    "import pandas as pd\n",
    "import numpy as np\n",
    "import seaborn as sns"
   ]
  },
  {
   "cell_type": "code",
   "execution_count": 2,
   "id": "d068ca95-d893-45db-97fe-64327356d52a",
   "metadata": {},
   "outputs": [],
   "source": [
    "df = pd.read_csv('../dataset/clean/day_data_gold_v3_test.csv', header=0)"
   ]
  },
  {
   "cell_type": "code",
   "execution_count": 3,
   "id": "02428516-4b36-4383-a46a-1ca1c2825918",
   "metadata": {},
   "outputs": [],
   "source": [
    "df_norms = []\n",
    "for pid, pid_df in df.groupby('pid'):\n",
    "    for c in pid_df.columns:\n",
    "        if pid_df[c].dtype != object and ('survey' not in c):\n",
    "            pid_df[c] = (pid_df[c] - pid_df[c].mean(skipna=True))/pid_df[c].std(skipna=True)\n",
    "    pid_df = pid_df.assign(pid=pid)\n",
    "    df_norms.append(pid_df)"
   ]
  },
  {
   "cell_type": "code",
   "execution_count": 4,
   "id": "422e222e-6bbb-49cf-ac32-95a6bc49fc37",
   "metadata": {},
   "outputs": [],
   "source": [
    "all_df = pd.concat(df_norms, ignore_index=True, axis=0)"
   ]
  },
  {
   "cell_type": "code",
   "execution_count": 5,
   "id": "66f5e4b6-ebbc-4bef-a0d2-98fdf4b185da",
   "metadata": {},
   "outputs": [],
   "source": [
    "all_df.to_csv('../dataset/clean/day_data_norm_not_surveys.csv', index=False)"
   ]
  },
  {
   "cell_type": "code",
   "execution_count": null,
   "id": "4cb501e1-0bd2-4896-abb6-d0ec545a7ac3",
   "metadata": {},
   "outputs": [],
   "source": []
  }
 ],
 "metadata": {
  "kernelspec": {
   "display_name": "Python 3 (ipykernel)",
   "language": "python",
   "name": "python3"
  },
  "language_info": {
   "codemirror_mode": {
    "name": "ipython",
    "version": 3
   },
   "file_extension": ".py",
   "mimetype": "text/x-python",
   "name": "python",
   "nbconvert_exporter": "python",
   "pygments_lexer": "ipython3",
   "version": "3.8.12"
  }
 },
 "nbformat": 4,
 "nbformat_minor": 5
}
