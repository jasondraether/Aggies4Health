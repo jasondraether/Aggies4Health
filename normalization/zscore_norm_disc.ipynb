{
 "cells": [
  {
   "cell_type": "code",
   "execution_count": 105,
   "id": "bbb7b493-f61e-423d-9a30-ca22fe35aab6",
   "metadata": {},
   "outputs": [],
   "source": [
    "import numpy as np\n",
    "import pandas as pd"
   ]
  },
  {
   "cell_type": "code",
   "execution_count": 106,
   "id": "88fdec63-e2da-40bc-a9e6-101424b3778e",
   "metadata": {},
   "outputs": [],
   "source": [
    "df = pd.read_csv('../dataset/clean/day_data_gold_v2.csv', header=0)"
   ]
  },
  {
   "cell_type": "code",
   "execution_count": 107,
   "id": "f48d2b83-9ba9-482c-b6ed-96fdb4507df6",
   "metadata": {},
   "outputs": [],
   "source": [
    "df_norms = []\n",
    "exempt_cols = {\n",
    "    'date',\n",
    "    'pid',\n",
    "    'sleep_start_time',\n",
    "    'sleep_end_time',\n",
    "}\n",
    "object_cols = [\n",
    "    'meals',\n",
    "    'alcohol_consumed',\n",
    "    'activity_names'\n",
    "]\n",
    "for pid, pid_df in df.groupby('pid'):\n",
    "    for c in pid_df.columns:\n",
    "        if pid_df[c].dtype != object:\n",
    "            pid_df[c] = (pid_df[c] - pid_df[c].mean(skipna=True))/pid_df[c].std(skipna=True)\n",
    "            pid_df[c] = pd.cut(pid_df[c], bins=[-np.inf, -0.33, 0.33, np.inf], labels=[c+'_low',c+'_mid',c+'_high'])\n",
    "    df_norms.append(pid_df)"
   ]
  },
  {
   "cell_type": "code",
   "execution_count": 59,
   "id": "49df3cb8-d551-4658-8219-539c3e991983",
   "metadata": {},
   "outputs": [],
   "source": [
    "all_df = pd.concat(df_norms, ignore_index=True, axis=0)"
   ]
  },
  {
   "cell_type": "code",
   "execution_count": 60,
   "id": "4f53ebe6-33d9-4f73-9f12-d774a1192eda",
   "metadata": {},
   "outputs": [],
   "source": [
    "all_df['activity_names'] = all_df['activity_names'].apply(lambda x: x.replace(\"{\",\"\").replace(\"}\",\"\").replace(\"\\'\",\"\").replace(\" \",\"\") if isinstance(x, str) else np.nan)\n",
    "all_df['meals'] = all_df['meals'].apply(lambda x: x.replace(\"{\",\"\").replace(\"}\",\"\").replace(\"\\'\",\"\").replace(\" \",\"\") if isinstance(x, str) else np.nan)\n",
    "# date, meals, alcohol_consumed, sleep_start_time, sleep_end_time, activity_names"
   ]
  }
 ],
 "metadata": {
  "kernelspec": {
   "display_name": "Python 3 (ipykernel)",
   "language": "python",
   "name": "python3"
  },
  "language_info": {
   "codemirror_mode": {
    "name": "ipython",
    "version": 3
   },
   "file_extension": ".py",
   "mimetype": "text/x-python",
   "name": "python",
   "nbconvert_exporter": "python",
   "pygments_lexer": "ipython3",
   "version": "3.8.12"
  }
 },
 "nbformat": 4,
 "nbformat_minor": 5
}
