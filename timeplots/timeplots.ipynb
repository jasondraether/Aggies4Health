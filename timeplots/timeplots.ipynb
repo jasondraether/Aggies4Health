{
 "cells": [
  {
   "cell_type": "code",
   "execution_count": null,
   "id": "7a67e467-8682-4577-919c-d2b7ce50df41",
   "metadata": {},
   "outputs": [],
   "source": [
    "import pandas as pd\n",
    "import numpy as np\n",
    "import matplotlib.pyplot as plt\n",
    "import os\n",
    "import seaborn as sns"
   ]
  },
  {
   "cell_type": "code",
   "execution_count": null,
   "id": "ce58d196-8a0b-45f9-a9a3-1a7174abe59a",
   "metadata": {},
   "outputs": [],
   "source": [
    "sns.set_style(\"darkgrid\")"
   ]
  },
  {
   "cell_type": "code",
   "execution_count": null,
   "id": "e09dda1f-a9e3-4c86-beeb-d22977e9e368",
   "metadata": {},
   "outputs": [],
   "source": [
    "df = pd.read_csv('../dataset/clean/sample_sorted.csv', header=0)"
   ]
  },
  {
   "cell_type": "code",
   "execution_count": null,
   "id": "cdc8600e-3537-480b-ace4-14460a4e06e1",
   "metadata": {
    "tags": []
   },
   "outputs": [],
   "source": [
    "# Box plots for day of week for all participants\n",
    "for c in df.columns:\n",
    "    if df[c].dtype == object or c == 'pid': continue\n",
    "    \n",
    "    plt.figure(figsize=(12,10))\n",
    "    \n",
    "    sns.boxplot(x='day_of_week', y=c, data=df)\n",
    "    plt.title(f'Box plot of {c} for all', fontsize=25)\n",
    "    plt.xlabel(f'Day of Week', fontsize=20)\n",
    "    plt.ylabel(c, fontsize=20)\n",
    "    plt.xticks(fontsize=15)\n",
    "    plt.yticks(fontsize=15)\n",
    "    plt.show()\n",
    "    plt.clf()\n",
    "    plt.close()\n",
    "        "
   ]
  },
  {
   "cell_type": "code",
   "execution_count": null,
   "id": "b43f54fc-06fd-4060-baa5-406798e8e279",
   "metadata": {
    "tags": []
   },
   "outputs": [],
   "source": [
    "# Box plots for day of week for individual participants\n",
    "for pid, pid_df in df.groupby('pid'):\n",
    "    for c in df.columns:\n",
    "        if pid_df[c].dtype == object or c == 'pid': continue\n",
    "\n",
    "        plt.figure(figsize=(12,10))\n",
    "\n",
    "        sns.boxplot(x='day_of_week', y=c, data=pid_df)\n",
    "        plt.title(f'Box plot of {c} for participant {pid}')\n",
    "        plt.xlabel(f'Day of Week')\n",
    "        plt.ylabel(c)\n",
    "        plt.show()\n",
    "        plt.clf()\n",
    "        plt.close()\n",
    "        "
   ]
  },
  {
   "cell_type": "code",
   "execution_count": null,
   "id": "10a1aac8-1282-4cea-9e4b-b9403825be84",
   "metadata": {
    "tags": []
   },
   "outputs": [],
   "source": [
    "# Line plot for individual participants for all features\n",
    "for pid, pid_df in df.groupby('pid'):\n",
    "    for c in df.columns:\n",
    "        if pid_df[c].dtype == object or c == 'pid' or c == 'date': continue\n",
    "\n",
    "        plt.figure(figsize=(20,8))\n",
    "\n",
    "        sns.lineplot(x='date', y=c, data=pid_df.sort_values(by='date'))\n",
    "        plt.title(f'Line plot of {c} for participant {pid}')\n",
    "        plt.xlabel(f'Date')\n",
    "        plt.xticks([pid_df['date'].iloc[i] for i in range(0, len(pid_df['date']), 7)], rotation=45)\n",
    "        plt.ylabel(c)\n",
    "        plt.show()\n",
    "        plt.clf()\n",
    "        plt.close()"
   ]
  },
  {
   "cell_type": "code",
   "execution_count": null,
   "id": "c4b27e17-6b52-4a0a-a040-5fbf644cd60f",
   "metadata": {},
   "outputs": [],
   "source": [
    "# Line plot for all participants for all features\n",
    "for c in df.columns:\n",
    "    if df[c].dtype == object or c == 'pid' or c == 'date': continue\n",
    "\n",
    "    plt.figure(figsize=(20,8))\n",
    "\n",
    "    sns.lineplot(x='date', y=c, hue='pid', data=df.sort_values(by='date'))\n",
    "    plt.title(f'Line plot of {c} for all')\n",
    "    plt.xlabel(f'Date')\n",
    "    plt.xticks([pid_df['date'].iloc[i] for i in range(0, len(pid_df['date']), 7)], rotation=45)\n",
    "    plt.ylabel(c)\n",
    "    plt.show()\n",
    "    plt.clf()\n",
    "    plt.close()"
   ]
  }
 ],
 "metadata": {
  "kernelspec": {
   "display_name": "Python 3 (ipykernel)",
   "language": "python",
   "name": "python3"
  },
  "language_info": {
   "codemirror_mode": {
    "name": "ipython",
    "version": 3
   },
   "file_extension": ".py",
   "mimetype": "text/x-python",
   "name": "python",
   "nbconvert_exporter": "python",
   "pygments_lexer": "ipython3",
   "version": "3.8.12"
  }
 },
 "nbformat": 4,
 "nbformat_minor": 5
}
