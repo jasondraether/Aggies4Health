{
 "cells": [
  {
   "cell_type": "code",
   "execution_count": 1,
   "id": "fbed3778-5541-4b03-81ec-3d1e0a5e2453",
   "metadata": {},
   "outputs": [],
   "source": [
    "import seaborn as sns\n",
    "import pandas as pd\n",
    "import numpy as np\n",
    "import os\n",
    "import matplotlib.pyplot as plt\n",
    "from scipy.stats import pearsonr\n",
    "from itertools import combinations"
   ]
  },
  {
   "cell_type": "code",
   "execution_count": 2,
   "id": "68b5d4fb-dbdb-4a3b-a72c-591909ebe13e",
   "metadata": {},
   "outputs": [],
   "source": [
    "sns.set_style(\"darkgrid\")"
   ]
  },
  {
   "cell_type": "code",
   "execution_count": 3,
   "id": "029647d8-29c8-4c56-9260-8ec455a01157",
   "metadata": {},
   "outputs": [],
   "source": [
    "df = pd.read_csv('../dataset/clean/day_data_norm_not_surveys.csv', header=0)"
   ]
  },
  {
   "cell_type": "code",
   "execution_count": 4,
   "id": "a439cd5e-c819-4da1-a62a-c8e35cf6182d",
   "metadata": {},
   "outputs": [
    {
     "data": {
      "text/plain": [
       "<Figure size 576x576 with 0 Axes>"
      ]
     },
     "metadata": {},
     "output_type": "display_data"
    }
   ],
   "source": [
    "pairs = list(combinations(df.columns, 2))\n",
    "plt.figure(figsize=(8,8))\n",
    "for x, y in pairs:\n",
    "    if (df[x].dtype == object) or (df[y].dtype == object) or x == 'pid' or y == 'pid': continue\n",
    "    clean_df = df[[x,y,'pid']].dropna()\n",
    "    if len(clean_df) < 10: continue\n",
    "    if abs(pearsonr(clean_df[x], clean_df[y])[0]) < 0.1: continue\n",
    "    sns.scatterplot(x=clean_df[x], y=clean_df[y], hue=df['pid'].astype(str))\n",
    "    \n",
    "    plt.xlabel(x)\n",
    "    plt.ylabel(y)\n",
    "    plt.title(f'{x} by {y} for all')\n",
    "    plt.legend(loc='upper right')\n",
    "    plt.savefig(os.path.join('some_norm/', f'({x})-({y}).png'), bbox_inches='tight')\n",
    "    #plt.show()\n",
    "    plt.clf()"
   ]
  }
 ],
 "metadata": {
  "kernelspec": {
   "display_name": "Python 3 (ipykernel)",
   "language": "python",
   "name": "python3"
  },
  "language_info": {
   "codemirror_mode": {
    "name": "ipython",
    "version": 3
   },
   "file_extension": ".py",
   "mimetype": "text/x-python",
   "name": "python",
   "nbconvert_exporter": "python",
   "pygments_lexer": "ipython3",
   "version": "3.8.12"
  }
 },
 "nbformat": 4,
 "nbformat_minor": 5
}
